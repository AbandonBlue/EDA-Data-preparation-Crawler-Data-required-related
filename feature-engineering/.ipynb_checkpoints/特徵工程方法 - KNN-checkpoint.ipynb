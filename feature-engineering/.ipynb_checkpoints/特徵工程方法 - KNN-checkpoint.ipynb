{
 "cells": [
  {
   "cell_type": "markdown",
   "metadata": {},
   "source": [
    "## KNN\n",
    "概念\n",
    "- KNN 是透過捕捉最近的k的資料點作為預測參考的模型，其隱含了捕捉局部資訊的能力，但這常常是被人忽略的部分。除了作為一個直覺、簡單的模型本身之外，也可以當作一個特徵工程的工具。\n",
    "- 背後隱含的概念也可以用物以類聚的概念去思考，會聚在一起(距離近)的人，通常在某個層面上是有很相似的地方(局部資訊)，可以被視為一個具有資訊價值的特徵。\n",
    "\n",
    "步驟\n",
    "1. 在資料集上運行KNN，替每一個資料點產生一個分類或者是分類機率，\n",
    "2. 將上述結果作為新的特徵，加入到資料點中，再去運行其他模型。\n",
    "\n",
    "其他注意\n",
    "- 這樣會使得原始資料被用來訓練2次(1次KNN、1次其他模型)"
   ]
  },
  {
   "cell_type": "code",
   "execution_count": 1,
   "metadata": {
    "ExecuteTime": {
     "end_time": "2021-12-24T09:02:07.922863Z",
     "start_time": "2021-12-24T09:02:00.631472Z"
    }
   },
   "outputs": [],
   "source": [
    "import sklearn\n",
    "import numpy as np\n",
    "import pandas as pd\n",
    "import matplotlib.pyplot as plt\n",
    "%matplotlib inline\n",
    "from sklearn.neighbors import KNeighborsClassifier\n",
    "from sklearn.linear_model import LogisticRegression\n",
    "from sklearn.metrics import accuracy_score, confusion_matrix\n",
    "from sklearn.model_selection import train_test_split\n",
    "from sklearn.model_selection import cross_val_score\n",
    "\n",
    "import warnings\n",
    "warnings.filterwarnings(\"ignore\")"
   ]
  },
  {
   "cell_type": "code",
   "execution_count": 2,
   "metadata": {
    "ExecuteTime": {
     "end_time": "2021-12-24T09:02:08.269875Z",
     "start_time": "2021-12-24T09:02:07.930160Z"
    }
   },
   "outputs": [],
   "source": [
    "# 取得資料並且前處理(標準化)\n",
    "from sklearn import datasets\n",
    "\n",
    "data = datasets.load_iris()\n",
    "X = data['data']\n",
    "y = data['target']"
   ]
  },
  {
   "cell_type": "code",
   "execution_count": 9,
   "metadata": {
    "ExecuteTime": {
     "end_time": "2021-12-24T09:04:54.220700Z",
     "start_time": "2021-12-24T09:04:53.583193Z"
    }
   },
   "outputs": [
    {
     "name": "stdout",
     "output_type": "stream",
     "text": [
      "[1.         0.93265993 1.         1.         0.93265993 0.93265993\n",
      " 0.93265993 1.         1.         1.        ]\n"
     ]
    }
   ],
   "source": [
    "# 先計算沒有特徵工程的LR\n",
    "lr = LogisticRegression()\n",
    "\n",
    "scores_without = cross_val_score(lr, X, y, cv=10, scoring='f1_macro')\n",
    "print(scores_without)"
   ]
  },
  {
   "cell_type": "code",
   "execution_count": 5,
   "metadata": {
    "ExecuteTime": {
     "end_time": "2021-12-24T09:02:18.720749Z",
     "start_time": "2021-12-24T09:02:18.695758Z"
    }
   },
   "outputs": [],
   "source": [
    "# 自動化新增特徵\n",
    "\n",
    "knn = KNeighborsClassifier()\n",
    "knn.fit(X, y)\n",
    "\n",
    "x_local_opinion = knn.predict(X).reshape(-1, 1)\n",
    "X_new = np.concatenate((X, x_local_opinion), axis=1)"
   ]
  },
  {
   "cell_type": "code",
   "execution_count": 6,
   "metadata": {
    "ExecuteTime": {
     "end_time": "2021-12-24T09:02:19.958358Z",
     "start_time": "2021-12-24T09:02:19.947280Z"
    }
   },
   "outputs": [
    {
     "data": {
      "text/plain": [
       "(150, 5)"
      ]
     },
     "execution_count": 6,
     "metadata": {},
     "output_type": "execute_result"
    }
   ],
   "source": [
    "X_new.shape"
   ]
  },
  {
   "cell_type": "code",
   "execution_count": 10,
   "metadata": {
    "ExecuteTime": {
     "end_time": "2021-12-24T09:04:58.578929Z",
     "start_time": "2021-12-24T09:04:58.029566Z"
    }
   },
   "outputs": [
    {
     "name": "stdout",
     "output_type": "stream",
     "text": [
      "[1. 1. 1. 1. 1. 1. 1. 1. 1. 1.]\n"
     ]
    }
   ],
   "source": [
    "knn_params = {\n",
    "    'n_neighbors': 7,\n",
    "    'weights': 'distance'\n",
    "}\n",
    "\n",
    "def add_feature_by_knn(X, y, knn_params):\n",
    "    knn = KNeighborsClassifier(**knn_params)\n",
    "    knn.fit(X, y)\n",
    "    X_add = knn.predict(X).reshape(-1, 1)\n",
    "    X_new = np.concatenate((X, X_add), axis=1)\n",
    "    return X_new\n",
    "\n",
    "X_new = add_feature_by_knn(X, y, knn_params)\n",
    "# 計算有特徵工程的LR\n",
    "lr = LogisticRegression()\n",
    "\n",
    "scores = cross_val_score(lr, X_new, y, cv=10, scoring='f1_macro')\n",
    "print(scores)"
   ]
  },
  {
   "cell_type": "code",
   "execution_count": 11,
   "metadata": {
    "ExecuteTime": {
     "end_time": "2021-12-24T09:06:19.899942Z",
     "start_time": "2021-12-24T09:06:19.883899Z"
    }
   },
   "outputs": [
    {
     "data": {
      "text/plain": [
       "Ttest_relResult(statistic=2.449489742783178, pvalue=0.018393748939893064)"
      ]
     },
     "execution_count": 11,
     "metadata": {},
     "output_type": "execute_result"
    }
   ],
   "source": [
    "# 相依樣本t檢定\n",
    "\n",
    "from scipy.stats import ttest_rel\n",
    "\n",
    "ttest_rel(scores, scores_without, nan_policy='propagate', alternative='greater')"
   ]
  },
  {
   "cell_type": "markdown",
   "metadata": {},
   "source": [
    "> 雖然這是一個比較簡略的例子，但可以看出效果是有所提升的，不失為一個在不清楚domain-knowhow時的一個自動化特徵工程方法"
   ]
  },
  {
   "cell_type": "code",
   "execution_count": null,
   "metadata": {},
   "outputs": [],
   "source": []
  }
 ],
 "metadata": {
  "kernelspec": {
   "display_name": "Python 3",
   "language": "python",
   "name": "python3"
  },
  "language_info": {
   "codemirror_mode": {
    "name": "ipython",
    "version": 3
   },
   "file_extension": ".py",
   "mimetype": "text/x-python",
   "name": "python",
   "nbconvert_exporter": "python",
   "pygments_lexer": "ipython3",
   "version": "3.7.3"
  }
 },
 "nbformat": 4,
 "nbformat_minor": 4
}
